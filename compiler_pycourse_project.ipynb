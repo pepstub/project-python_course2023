{
 "cells": [
  {
   "cell_type": "markdown",
   "metadata": {},
   "source": [
    "Importing the necessary modules"
   ]
  },
  {
   "cell_type": "code",
   "execution_count": 27,
   "metadata": {},
   "outputs": [],
   "source": [
    "import pandas as pd\n",
    "import numpy as np\n",
    "\n"
   ]
  },
  {
   "cell_type": "markdown",
   "metadata": {},
   "source": [
    "Defining some useful variables:\n",
    "- colors distractors can take\n",
    "- colors array elements can take\n",
    "- the overall distractor presence"
   ]
  },
  {
   "cell_type": "code",
   "execution_count": 33,
   "metadata": {},
   "outputs": [],
   "source": [
    "colDist = ['green', 'red'] # Color of distractor\n",
    "arElCol = ['green', 'red'] # Color of array element\n",
    "distPercent = 0.6 # Percentage of trials with distractor"
   ]
  },
  {
   "cell_type": "markdown",
   "metadata": {},
   "source": [
    "Initializing my \"condition table\", an empty numpy array.\n",
    "Rows correspond to trials, columns to different variables that can change from trial to trial."
   ]
  },
  {
   "cell_type": "code",
   "execution_count": 34,
   "metadata": {},
   "outputs": [],
   "source": [
    "# Heading of condition table\n",
    "heading = ['targPres', 'distPres', 'arElCol',  \n",
    "           'distCol', 'shape']\n",
    "\n",
    "nTrials = 200  # Number of trials per block\n",
    "condTable = np.empty((nTrials, len(heading)), dtype=object) "
   ]
  },
  {
   "cell_type": "markdown",
   "metadata": {},
   "source": [
    "Filling the condition table row by row with a for loop"
   ]
  },
  {
   "cell_type": "code",
   "execution_count": 35,
   "metadata": {},
   "outputs": [],
   "source": [
    "for i in range(nTrials):\n",
    "    arrayFig = np.round(np.random.rand()) # 0 or 1 \n",
    "    condTable[i, 0] = True  # targPres\n",
    "    \n",
    "    tmpSamparElCol = np.random.choice(len(arElCol), 1)[0] \n",
    "    condTable[i, 2] = arElCol[tmpSamparElCol] #arElCol \n",
    "    \n",
    "    if i <= np.round(nTrials*distPercent): # 60% of trials with distractor\n",
    "        condTable[i, 1] = True #distPres \n",
    "        condTable[i, 3] = np.setdiff1d(colDist,arElCol[tmpSamparElCol])[0] #distCol\n",
    "    else:\n",
    "        \n",
    "        condTable[i, 1] = False #distPres\n",
    "        condTable[i, 3] = 'black' #distCo #could be any color, since no distractor, but needed for avoiding possible errors      \n",
    "     \n",
    "\n",
    "#the presence of target and distractor, coded as true or false\n",
    "#is now changed to duration in seconds\n",
    "\n",
    "\n",
    "    if condTable[i, 0] == True:\n",
    "        condTable[i, 0] = 2\n",
    "\n",
    "    if condTable[i, 1] == True:\n",
    "        condTable[i, 1] = 2\n",
    "      \n",
    "    else:\n",
    "        condTable[i, 1] = 0\n",
    "\n",
    "\n",
    "#shape is used to determine the shape of the array elements\n",
    "#and consequently of the target and distractor\n",
    "\n",
    "    if arrayFig:\n",
    "        condTable[i, 4] = 1  # shape\n",
    "    else:\n",
    "        condTable[i, 4] = 0     "
   ]
  },
  {
   "cell_type": "markdown",
   "metadata": {},
   "source": [
    "Transforming the condition table into a pandas data frame and quickly checking it with df.head() and df.tail()"
   ]
  },
  {
   "cell_type": "code",
   "execution_count": 32,
   "metadata": {},
   "outputs": [
    {
     "data": {
      "text/html": [
       "<div>\n",
       "<style scoped>\n",
       "    .dataframe tbody tr th:only-of-type {\n",
       "        vertical-align: middle;\n",
       "    }\n",
       "\n",
       "    .dataframe tbody tr th {\n",
       "        vertical-align: top;\n",
       "    }\n",
       "\n",
       "    .dataframe thead th {\n",
       "        text-align: right;\n",
       "    }\n",
       "</style>\n",
       "<table border=\"1\" class=\"dataframe\">\n",
       "  <thead>\n",
       "    <tr style=\"text-align: right;\">\n",
       "      <th></th>\n",
       "      <th>targPres</th>\n",
       "      <th>distPres</th>\n",
       "      <th>arElCol</th>\n",
       "      <th>distCol</th>\n",
       "      <th>shape</th>\n",
       "    </tr>\n",
       "  </thead>\n",
       "  <tbody>\n",
       "    <tr>\n",
       "      <th>0</th>\n",
       "      <td>2</td>\n",
       "      <td>2</td>\n",
       "      <td>green</td>\n",
       "      <td>red</td>\n",
       "      <td>1</td>\n",
       "    </tr>\n",
       "    <tr>\n",
       "      <th>1</th>\n",
       "      <td>2</td>\n",
       "      <td>2</td>\n",
       "      <td>green</td>\n",
       "      <td>red</td>\n",
       "      <td>0</td>\n",
       "    </tr>\n",
       "    <tr>\n",
       "      <th>2</th>\n",
       "      <td>2</td>\n",
       "      <td>2</td>\n",
       "      <td>green</td>\n",
       "      <td>red</td>\n",
       "      <td>1</td>\n",
       "    </tr>\n",
       "    <tr>\n",
       "      <th>3</th>\n",
       "      <td>2</td>\n",
       "      <td>2</td>\n",
       "      <td>red</td>\n",
       "      <td>green</td>\n",
       "      <td>1</td>\n",
       "    </tr>\n",
       "    <tr>\n",
       "      <th>4</th>\n",
       "      <td>2</td>\n",
       "      <td>2</td>\n",
       "      <td>green</td>\n",
       "      <td>red</td>\n",
       "      <td>0</td>\n",
       "    </tr>\n",
       "    <tr>\n",
       "      <th>...</th>\n",
       "      <td>...</td>\n",
       "      <td>...</td>\n",
       "      <td>...</td>\n",
       "      <td>...</td>\n",
       "      <td>...</td>\n",
       "    </tr>\n",
       "    <tr>\n",
       "      <th>65</th>\n",
       "      <td>2</td>\n",
       "      <td>2</td>\n",
       "      <td>green</td>\n",
       "      <td>red</td>\n",
       "      <td>0</td>\n",
       "    </tr>\n",
       "    <tr>\n",
       "      <th>66</th>\n",
       "      <td>2</td>\n",
       "      <td>2</td>\n",
       "      <td>green</td>\n",
       "      <td>red</td>\n",
       "      <td>1</td>\n",
       "    </tr>\n",
       "    <tr>\n",
       "      <th>67</th>\n",
       "      <td>2</td>\n",
       "      <td>2</td>\n",
       "      <td>green</td>\n",
       "      <td>red</td>\n",
       "      <td>1</td>\n",
       "    </tr>\n",
       "    <tr>\n",
       "      <th>68</th>\n",
       "      <td>2</td>\n",
       "      <td>2</td>\n",
       "      <td>red</td>\n",
       "      <td>green</td>\n",
       "      <td>0</td>\n",
       "    </tr>\n",
       "    <tr>\n",
       "      <th>69</th>\n",
       "      <td>2</td>\n",
       "      <td>2</td>\n",
       "      <td>red</td>\n",
       "      <td>green</td>\n",
       "      <td>1</td>\n",
       "    </tr>\n",
       "  </tbody>\n",
       "</table>\n",
       "<p>70 rows × 5 columns</p>\n",
       "</div>"
      ],
      "text/plain": [
       "   targPres distPres arElCol distCol shape\n",
       "0         2        2   green     red     1\n",
       "1         2        2   green     red     0\n",
       "2         2        2   green     red     1\n",
       "3         2        2     red   green     1\n",
       "4         2        2   green     red     0\n",
       "..      ...      ...     ...     ...   ...\n",
       "65        2        2   green     red     0\n",
       "66        2        2   green     red     1\n",
       "67        2        2   green     red     1\n",
       "68        2        2     red   green     0\n",
       "69        2        2     red   green     1\n",
       "\n",
       "[70 rows x 5 columns]"
      ]
     },
     "execution_count": 32,
     "metadata": {},
     "output_type": "execute_result"
    }
   ],
   "source": [
    "df = pd.DataFrame(condTable, columns=heading) \n",
    "df.head(70)"
   ]
  },
  {
   "cell_type": "code",
   "execution_count": null,
   "metadata": {},
   "outputs": [],
   "source": [
    "df.tail(10)"
   ]
  },
  {
   "cell_type": "markdown",
   "metadata": {},
   "source": [
    "Converting the data frame to excel and exporting it. Folder path is left to assign accordingly."
   ]
  },
  {
   "cell_type": "code",
   "execution_count": 36,
   "metadata": {},
   "outputs": [],
   "source": [
    "# Specify the path to the folder where you want to save the Excel file\n",
    "folder_path = \"...\"\n",
    "\n",
    "# Specify the desired filename for the Excel file\n",
    "file_name = \"Conditions.xlsx\"\n",
    "\n",
    "# Combine the folder path and filename\n",
    "output_path = folder_path + file_name\n",
    "\n",
    "# Export the DataFrame to Excel\n",
    "df.to_excel(output_path, index=False)"
   ]
  },
  {
   "cell_type": "markdown",
   "metadata": {},
   "source": [
    "After the file is created, it is of course advisable to inspect it visually. "
   ]
  }
 ],
 "metadata": {
  "kernelspec": {
   "display_name": "course-env",
   "language": "python",
   "name": "python3"
  },
  "language_info": {
   "codemirror_mode": {
    "name": "ipython",
    "version": 3
   },
   "file_extension": ".py",
   "mimetype": "text/x-python",
   "name": "python",
   "nbconvert_exporter": "python",
   "pygments_lexer": "ipython3",
   "version": "3.9.16"
  },
  "orig_nbformat": 4
 },
 "nbformat": 4,
 "nbformat_minor": 2
}
