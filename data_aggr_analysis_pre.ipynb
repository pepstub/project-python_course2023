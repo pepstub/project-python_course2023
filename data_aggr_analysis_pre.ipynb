{
 "cells": [
  {
   "cell_type": "markdown",
   "metadata": {},
   "source": [
    "Importing necessary modules"
   ]
  },
  {
   "cell_type": "code",
   "execution_count": 141,
   "metadata": {},
   "outputs": [],
   "source": [
    "from pathlib import Path\n",
    "import pandas as pd\n",
    "import numpy as np"
   ]
  },
  {
   "cell_type": "markdown",
   "metadata": {},
   "source": [
    "Accessing csv files to analyse. To use the example csv, download it and substitute \"...\" with the path of the folder containing it on your computer"
   ]
  },
  {
   "cell_type": "code",
   "execution_count": 163,
   "metadata": {},
   "outputs": [],
   "source": [
    "\n",
    "# Define the exclude_outliers function\n",
    "def exclude_outliers(df, column_name, lower_bound, lower_std_devs, upper_std_devs):\n",
    "    mean = df[column_name].mean()\n",
    "    std_dev = df[column_name].std()\n",
    "    \n",
    "    lower_std_bound = mean - lower_std_devs * std_dev\n",
    "    upper_std_bound = mean + upper_std_devs * std_dev\n",
    "\n",
    "    filtered_df = df[(df[column_name] >= lower_bound) & (df[column_name] >= lower_std_bound) & (df[column_name] <= upper_std_bound)]\n",
    "    return filtered_df\n",
    "\n",
    "# Get a list of all CSV files in the folder\n",
    "csv_files = [file for file in Path('...').iterdir() if file.suffix == '.csv']\n"
   ]
  },
  {
   "cell_type": "markdown",
   "metadata": {},
   "source": [
    "Initializing empty data frame and selecting columns of interest"
   ]
  },
  {
   "cell_type": "code",
   "execution_count": 164,
   "metadata": {},
   "outputs": [],
   "source": [
    "\n",
    "# Initialize an empty DataFrame to store the final output\n",
    "output_df = pd.DataFrame()\n",
    "\n",
    "# Extract columns of interest\n",
    "columns_of_interest = [\"participant\", \"distPres\", \"targPos\", \n",
    "                        \"distPos\", \"distCol\", \"key_resp_2.corr\", \n",
    "                        \"key_resp_2.rt\", \"trial.thisN\"]\n"
   ]
  },
  {
   "cell_type": "markdown",
   "metadata": {},
   "source": [
    "Reading every csv with a for loop, performing necessary analyses"
   ]
  },
  {
   "cell_type": "code",
   "execution_count": 165,
   "metadata": {},
   "outputs": [],
   "source": [
    "for csv_file in csv_files:\n",
    "    # Read the CSV file into a DataFrame\n",
    "    try:\n",
    "        df = pd.read_csv(csv_file)\n",
    "    except pd.errors.EmptyDataError:\n",
    "        # Skip empty file\n",
    "        continue\n",
    "\n",
    "    # Select only the columns of interest\n",
    "    df = df[columns_of_interest]\n",
    "\n",
    "    # Calculate accuracy\n",
    "    accuracy = df[\"key_resp_2.corr\"].mean()\n",
    "\n",
    "    if accuracy > 0.70:\n",
    "        # Omit practice and NA trials based on trial.thisN column\n",
    "        df = df.dropna(subset=[\"trial.thisN\"])\n",
    "\n",
    "        # Exclude outliers in 'key_resp_2.rt' column\n",
    "        df = exclude_outliers(df, 'key_resp_2.rt', 0.200, 2.5, 2.5)        \n",
    "\n",
    "        #find distractor present and absent trials\n",
    "        df_dist = df[df[\"distPres\"] == \"2\"]\n",
    "        df_nodist = df[df[\"distPres\"] == \"FALSE\"]\n",
    "\n",
    "        # Distractor position\n",
    "        dist_pos = df_dist[\"distPos\"].mean()\n",
    "        \n",
    "        #find mean of no distractor positions\n",
    "        mean_nodist = df_nodist[df_nodist[\"key_resp_2.corr\"] == 1][\"key_resp_2.rt\"].mean()\n",
    "\n",
    "        # Find mean of distractor present positions\n",
    "        mean_distpres = df_dist[df_dist[\"key_resp_2.corr\"] == 1][\"key_resp_2.rt\"].mean()\n",
    "\n",
    "        # Target LOC EFFECT\n",
    "\n",
    "        # Target when it appears in distractor position\n",
    "        target_distpos = df_nodist[(df_nodist[\"targPos\"] == dist_pos)][\"key_resp_2.rt\"].mean()\n",
    "\n",
    "        # Target when it appears in no distractor positions\n",
    "        target_nodistpos = df_nodist[(df_nodist[\"targPos\"] != dist_pos)][\"key_resp_2.rt\"].mean()\n",
    "\n",
    "        # Accuracy\n",
    "\n",
    "        # Find accuracy of no distractor positions\n",
    "        acc_nodist = df_nodist[\"key_resp_2.corr\"].mean()\n",
    "\n",
    "        # Find accuracy of distractor present positions\n",
    "        acc_distpres = df_dist[\"key_resp_2.corr\"].mean()\n",
    "\n",
    "        # Participant\n",
    "        n_part = df[\"participant\"].iloc[1]\n",
    "\n",
    "        # Create a DataFrame with the calculated values\n",
    "        df_means_and_accs = pd.DataFrame({\n",
    "            \"n_part\": [n_part],\n",
    "            \"accuracy\": [accuracy],\n",
    "            \"mean_nodist\": [mean_nodist],\n",
    "            \"mean_distpres\": [mean_distpres],\n",
    "            \"target_nodistpos\": [target_nodistpos],\n",
    "            \"target_distpos\": [target_distpos],\n",
    "            \"acc_nodist\": [acc_nodist],\n",
    "            \"acc_distpres\": [acc_distpres]\n",
    "        })\n",
    "\n",
    "        # Append the current subset DataFrame to the final output DataFrame\n",
    "        output_df = pd.concat([output_df, df_means_and_accs])"
   ]
  },
  {
   "cell_type": "markdown",
   "metadata": {},
   "source": [
    "Writing output in another csv"
   ]
  },
  {
   "cell_type": "code",
   "execution_count": 166,
   "metadata": {},
   "outputs": [],
   "source": [
    "# Write the final output DataFrame to a CSV file\n",
    "output_csv_file = Path(\"...\")\n",
    "output_df.to_csv(output_csv_file, index=False)\n"
   ]
  },
  {
   "cell_type": "code",
   "execution_count": null,
   "metadata": {},
   "outputs": [],
   "source": []
  }
 ],
 "metadata": {
  "kernelspec": {
   "display_name": "course-env",
   "language": "python",
   "name": "python3"
  },
  "language_info": {
   "codemirror_mode": {
    "name": "ipython",
    "version": 3
   },
   "file_extension": ".py",
   "mimetype": "text/x-python",
   "name": "python",
   "nbconvert_exporter": "python",
   "pygments_lexer": "ipython3",
   "version": "3.9.16"
  },
  "orig_nbformat": 4
 },
 "nbformat": 4,
 "nbformat_minor": 2
}
