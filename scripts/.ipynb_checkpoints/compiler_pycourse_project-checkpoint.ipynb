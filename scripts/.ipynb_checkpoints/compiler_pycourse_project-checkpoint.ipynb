{
 "cells": [
  {
   "cell_type": "markdown",
   "metadata": {},
   "source": [
    "Importing the necessary modules"
   ]
  },
  {
   "cell_type": "code",
   "execution_count": null,
   "metadata": {},
   "outputs": [],
   "source": [
    "import pandas as pd\n",
    "import numpy as np\n",
    "\n"
   ]
  },
  {
   "cell_type": "markdown",
   "metadata": {},
   "source": [
    "Defining some useful variables:\n",
    "- colors distractors can take\n",
    "- colors array elements can take\n",
    "- the overall distractor presence"
   ]
  },
  {
   "cell_type": "code",
   "execution_count": null,
   "metadata": {},
   "outputs": [],
   "source": [
    "# LP: Please stick to the python conventions even if you do not like them\n",
    "# or would be inconsistent with file column names! Variables are e.g. color_distractor, not colorDistractor\n",
    "\n",
    "colDist = ['green', 'red'] # Color of distractor\n",
    "arElCol = ['green', 'red'] # Color of array element\n",
    "distPercent = 0.6 # Percentage of trials with distractor  #LP very minor, fraction not percentage"
   ]
  },
  {
   "cell_type": "markdown",
   "metadata": {},
   "source": [
    "Initializing my \"condition table\", an empty numpy array.\n",
    "Rows correspond to trials, columns to different variables that can change from trial to trial."
   ]
  },
  {
   "cell_type": "code",
   "execution_count": null,
   "metadata": {},
   "outputs": [],
   "source": [
    "# Heading of condition table\n",
    "heading = ['targPres', 'distPres', 'arElCol',  \n",
    "           'distCol', 'shape']\n",
    "\n",
    "nTrials = 200  # Number of trials per block\n",
    "\n",
    "# LP: Code would be much smoother if you were to create this directly as a pandas dataframe!\n",
    "condTable = np.empty((nTrials, len(heading)), dtype=object) "
   ]
  },
  {
   "cell_type": "markdown",
   "metadata": {},
   "source": [
    "Filling the condition table row by row with a for loop"
   ]
  },
  {
   "cell_type": "code",
   "execution_count": null,
   "metadata": {},
   "outputs": [],
   "source": [
    "# LP: following up the comment above.\n",
    "# Compare the readability of the following:\n",
    "# \n",
    "# trials_dict_list = []\n",
    "# \n",
    "# for i in range (n_trials):\n",
    "#     # all computations you might need...then\n",
    "#\n",
    "#     trial_dict = dict(targetPres=...,\n",
    "#                       distCol=...,\n",
    "#                       ...)\n",
    "#     trials_dict_list.append(trial_dict)\n",
    "#\n",
    "# df = pd.DataFrame(trials_dict_list)\n",
    "\n",
    "# ytou get rid of all the annoying indexes down here (eg: you add an header and you would \n",
    "# need to change up to 13 magic numbers as opposed to 0)\n",
    "\n",
    "\n",
    "for i in range(nTrials):\n",
    "    arrayFig = np.round(np.random.rand()) # 0 or 1 \n",
    "    condTable[i, 0] = True  # targPres\n",
    "    \n",
    "    tmpSamparElCol = np.random.choice(len(arElCol), 1)[0] \n",
    "    condTable[i, 2] = arElCol[tmpSamparElCol] #arElCol \n",
    "    \n",
    "    if i <= np.round(nTrials*distPercent): # 60% of trials with distractor\n",
    "        condTable[i, 1] = True #distPres \n",
    "        condTable[i, 3] = np.setdiff1d(colDist,arElCol[tmpSamparElCol])[0] #distCol\n",
    "    else:\n",
    "        \n",
    "        condTable[i, 1] = False #distPres\n",
    "        condTable[i, 3] = 'black' #distCo #could be any color, since no distractor, but needed for avoiding possible errors      \n",
    "     \n",
    "\n",
    "#the presence of target and distractor, coded as true or false\n",
    "#is now changed to duration in seconds\n",
    "\n",
    "    # you could subsume those conditionals in the statements above, not clear why they need to be separate\n",
    "    if condTable[i, 0] == True:\n",
    "        condTable[i, 0] = 2\n",
    "\n",
    "    if condTable[i, 1] == True:\n",
    "        condTable[i, 1] = 2\n",
    "      \n",
    "    else:\n",
    "        condTable[i, 1] = 0\n",
    "\n",
    "\n",
    "#shape is used to determine the shape of the array elements\n",
    "#and consequently of the target and distractor\n",
    "\n",
    "    if arrayFig:\n",
    "        condTable[i, 4] = 1  # shape\n",
    "    else:\n",
    "        condTable[i, 4] = 0     "
   ]
  },
  {
   "cell_type": "code",
   "execution_count": null,
   "metadata": {},
   "outputs": [],
   "source": []
  },
  {
   "cell_type": "markdown",
   "metadata": {},
   "source": [
    "Transforming the condition table into a pandas data frame and quickly checking it with df.head() and df.tail()"
   ]
  },
  {
   "cell_type": "code",
   "execution_count": null,
   "metadata": {},
   "outputs": [],
   "source": [
    "# LP As mentioned above, generally way easier to initialize from dict of arrays/lists or list of dicts\n",
    "# in you case, list of dicts maybe\n",
    "df = pd.DataFrame(condTable, columns=heading) \n",
    "df.head(70)"
   ]
  },
  {
   "cell_type": "code",
   "execution_count": null,
   "metadata": {},
   "outputs": [],
   "source": [
    "df.tail(10)"
   ]
  },
  {
   "cell_type": "markdown",
   "metadata": {},
   "source": [
    "Converting the data frame to excel and exporting it. Folder path is left to assign accordingly."
   ]
  },
  {
   "cell_type": "code",
   "execution_count": null,
   "metadata": {},
   "outputs": [],
   "source": [
    "# Specify the path to the folder where you want to save the Excel file\n",
    "folder_path = \"...\"\n",
    "\n",
    "# Specify the desired filename for the Excel file\n",
    "file_name = \"Conditions.xlsx\"\n",
    "\n",
    "# Combine the folder path and filename\n",
    "output_path = folder_path + file_name\n",
    "\n",
    "# Export the DataFrame to Excel\n",
    "df.to_excel(output_path, index=False)"
   ]
  },
  {
   "cell_type": "markdown",
   "metadata": {},
   "source": [
    "After the file is created, it is of course advisable to inspect it visually. "
   ]
  }
 ],
 "metadata": {
  "kernelspec": {
   "display_name": "Python [conda env:course_env]",
   "language": "python",
   "name": "conda-env-course_env-py"
  },
  "language_info": {
   "codemirror_mode": {
    "name": "ipython",
    "version": 3
   },
   "file_extension": ".py",
   "mimetype": "text/x-python",
   "name": "python",
   "nbconvert_exporter": "python",
   "pygments_lexer": "ipython3",
   "version": "3.9.16"
  }
 },
 "nbformat": 4,
 "nbformat_minor": 4
}
